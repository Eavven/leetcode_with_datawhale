{
 "cells": [
  {
   "cell_type": "code",
   "execution_count": null,
   "metadata": {},
   "outputs": [],
   "source": [
    "##分冶模板\n",
    "\n",
    "def divide_conquer(problem,param1,prarm2,……):\n",
    "    #递归终止条件\n",
    "    if problem is None:\n",
    "        print_result\n",
    "        return\n",
    "    \n",
    "    #数据准备\n",
    "    data = prepare_data(problem)\n",
    "    subproblems = split_problem(problem,data)\n",
    "    \n",
    "    #解决子问题\n",
    "    \n",
    "    subresult1 = self.divide_conque(subproblem[0],p1,p2……)\n",
    "    subresult2 = self.divide_conque(subproblem[1],p1,p2……)\n",
    "    subresult3 = self.divide_conque(subproblem[2],p2,p2……)\n",
    "    \n",
    "    #合并子问题，得到结果\n",
    "    \n",
    "    result = process_result(subresult1,subresult2,subresult3)"
   ]
  },
  {
   "cell_type": "markdown",
   "metadata": {},
   "source": [
    "### Pow(x, n)\n",
    "\n",
    "最暴力方法是n次循环，子问题是pow(x,n) = pow(x,n-1) * x,暴力情况时间复杂度是O（n），使用分冶优化。\n",
    "\n",
    "\n",
    "一个大问题可以拆成两个子问题，当n是偶数 pow(x,n) = pow(x,n/2) * pow(x,n/2),当n是奇数时，pow(x.n) = x *pow(x,n-1/2) * pow(x,n-1/2)\n"
   ]
  },
  {
   "cell_type": "code",
   "execution_count": 1,
   "metadata": {},
   "outputs": [
    {
     "data": {
      "text/plain": [
       "25"
      ]
     },
     "execution_count": 1,
     "metadata": {},
     "output_type": "execute_result"
    }
   ],
   "source": [
    "class Solution:\n",
    "    def myPow(self, x: float, n: int) -> float:\n",
    "        if not n:\n",
    "            return 1\n",
    "        if n < 0 :\n",
    "            return 1/self.myPow(x,-n)\n",
    "        if n % 2 == 1:\n",
    "            return x*self.myPow(x,n-1)\n",
    "        return self.myPow(x*x,n/2) \n",
    "    #这里本来用的是myPow(x,n/2) * myPow(x,n/2)"
   ]
  },
  {
   "cell_type": "markdown",
   "metadata": {},
   "source": [
    "### 最大子序和\n",
    "\n",
    "[-2,1,-3,4,-1,2,1,-5,4]\n",
    "\n",
    "最暴力方法是枚举所有的区间情况[i,j]，嵌套遍历，每次循环操作要从nums[i]加到num[j]，总共时间复杂度是n3\n",
    "考虑子问题是什么：\n",
    "\n",
    "对于只包含一个元素[a]，考虑该元素是否大于0\n",
    "在一个元素的基础上加上一个元素[a,b]，若第二个元素大于0，那最大子序和是 maxsubarray([a])+b,否则仍绕是maxsubarray([a])\n",
    "\n",
    "对于包含n个元素的数组nums，其子问题拆分为考虑nums[:n-1] 和nums[n]\n",
    "\n",
    "假设nums[:n-1]的最大子序列是[i:j],如果nums[n] > 0那么有机会更新最大子序列，最大子序列可能是nums[i:n]或者nums[p,n] (j<p<n)"
   ]
  },
  {
   "cell_type": "code",
   "execution_count": null,
   "metadata": {},
   "outputs": [],
   "source": [
    "class Solution:\n",
    "    def maxSubArray(self, nums):\n",
    "        \"\"\"\n",
    "        :type nums: List[int]\n",
    "        :rtype: int\n",
    "        \"\"\"\n",
    "        def divide_and_conquer(nums, i, j):\n",
    "            if i == j-1:\n",
    "                return nums[i],nums[i],nums[i],nums[i]\n",
    "            i_mid = i+(j-i)//2\n",
    "            a1, m1, b1, s1 = divide_and_conquer(nums, i, i_mid)\n",
    "            a2, m2, b2, s2 = divide_and_conquer(nums, i_mid, j)\n",
    "\n",
    "            a = max(a1, s1+a2)\n",
    "            b = max(b2, s2+b1)\n",
    "            m = max(m1,m2,b1+a2)\n",
    "            s = s1+s2\n",
    "            return a,m,b,s\n",
    "                  \n",
    "        _,m,_,_ = divide_and_conquer(nums, 0, len(nums))\n",
    "        return m"
   ]
  },
  {
   "cell_type": "markdown",
   "metadata": {},
   "source": [
    "### 多数元素\n",
    " \n",
    "一、暴力方法，统计每个元素出现的次数，返回次数最多的，优化的方向可以是找到一个次数大于n/2的就直接返回。时间复杂度为O（n2），一次遍历数组，加上遍历哈希表，空间复杂度O(N）\n",
    "二、根据数组的性质，如果对数组进行排序后，那么数组的中位数就是所要找的元素，排序时间复杂度为O（nlogn），使用原地排序空间复杂度O（1）\n",
    "三、分治，将数组一分为二后，那么左部分和右部分的众数其中必有一个是所需要找到的众数。子问题就是寻找当子区间众数，合并步骤分别验证各个子区间的众数是否是区间的众数。递归终止条件是子区间长度为1。时间复杂度是在合并这个操作上，每次合并都要遍历整个区间，合并次数为O（logn），那么整体的时间复杂度为O（nlogn），空间复杂度需要常数空间存储临时变量O（1）\n"
   ]
  },
  {
   "cell_type": "code",
   "execution_count": null,
   "metadata": {},
   "outputs": [],
   "source": [
    "##转自leetcode官方题解\n",
    "class Solution:\n",
    "    def majorityElement(self, nums: List[int]) -> int:\n",
    "        def majority_element_rec(lo, hi):\n",
    "     \n",
    "            if lo == hi:\n",
    "                return nums[lo]\n",
    "\n",
    "            mid = (hi-lo)//2 + lo\n",
    "            left = majority_element_rec(lo, mid)\n",
    "            right = majority_element_rec(mid+1, hi)\n",
    "            if left == right:\n",
    "                return left\n",
    "\n",
    "            # otherwise, count each element and return the \"winner\".\n",
    "            left_count = sum(1 for i in range(lo, hi+1) if nums[i] == left)\n",
    "            right_count = sum(1 for i in range(lo, hi+1) if nums[i] == right)\n",
    "\n",
    "            return left if left_count > right_count else right\n",
    "\n",
    "        return majority_element_rec(0, len(nums)-1)"
   ]
  },
  {
   "cell_type": "code",
   "execution_count": 1,
   "metadata": {},
   "outputs": [
    {
     "data": {
      "text/plain": [
       "0"
      ]
     },
     "execution_count": 1,
     "metadata": {},
     "output_type": "execute_result"
    }
   ],
   "source": [
    "1//2"
   ]
  },
  {
   "cell_type": "code",
   "execution_count": null,
   "metadata": {},
   "outputs": [],
   "source": []
  }
 ],
 "metadata": {
  "kernelspec": {
   "display_name": "Python 3",
   "language": "python",
   "name": "python3"
  },
  "language_info": {
   "codemirror_mode": {
    "name": "ipython",
    "version": 3
   },
   "file_extension": ".py",
   "mimetype": "text/x-python",
   "name": "python",
   "nbconvert_exporter": "python",
   "pygments_lexer": "ipython3",
   "version": "3.6.10"
  }
 },
 "nbformat": 4,
 "nbformat_minor": 4
}
