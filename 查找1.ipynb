{
 "cells": [
  {
   "cell_type": "markdown",
   "metadata": {},
   "source": [
    "### 搜索插入位置\n",
    "\n",
    "最暴力方法就是一次遍历逐个比较，根据两数之间的大小进行比较，时间复杂度为O（n）,可以用二分查找进行优化，时间复杂度为O（logn）"
   ]
  },
  {
   "cell_type": "code",
   "execution_count": null,
   "metadata": {},
   "outputs": [],
   "source": [
    "class Solution:\n",
    "    def searchInsert(self, nums: List[int], target: int) -> int:\n",
    "        for i in range(len(nums)):\n",
    "            if nums[i] < target:\n",
    "                #当前数如果比目标数小，则继续查找\n",
    "                continue\n",
    "            else :\n",
    "                #如果当前数等于目标数则返回索引，如果大于目标数，说明没有相同的数，则插入target\n",
    "                return i\n",
    "         #如果整个数组的数都小于target则将target插入数组的末尾   \n",
    "        return len(nums) "
   ]
  },
  {
   "cell_type": "markdown",
   "metadata": {},
   "source": [
    "### 快乐数\n",
    "\n",
    "快乐数的判断是能否返回1，而重点是不是快乐数的判断，当有循环数字的时候则该数不是快乐数。\n",
    "那么可以用一个集合存储出现过的数字，这种做法需要额外空间，另一个方法是如果出现重复数字，则意味着有环，那就可以用链表的数据结构来考虑，因为一个数之后指向下一个数的生成，用快慢指针来判断是否存在环"
   ]
  },
  {
   "cell_type": "code",
   "execution_count": null,
   "metadata": {},
   "outputs": [],
   "source": [
    "##采用额外空间\n",
    "class Solution:\n",
    "    def isHappy(self, n: int) -> bool:\n",
    "        memo = set()\n",
    "        while n!=1:\n",
    "            n = sum(int(i)**2 for i in str(n))\n",
    "            #另一种表达，n = sum(map(lambda x:int(x)**2, str(n)))\n",
    "            if n in memo:\n",
    "                return False\n",
    "            else:\n",
    "                memo.add(n)\n",
    "        #退出循环，意味着n=1，则该数是快乐数\n",
    "        return True\n",
    "\n",
    "##采用快慢指针\n",
    "\n",
    "class Solution:\n",
    "    def isHappy(self, n: int) -> bool:\n",
    "        r1 = self.step(n)\n",
    "        r2 = self.step(r1)\n",
    "\n",
    "        while r2 != 1:\n",
    "            if r1 == r2:\n",
    "                return False\n",
    "            else:\n",
    "                r1 = self.step(r1)\n",
    "                r2 = self.step(self.step(r2))\n",
    "        return True\n",
    "    \n",
    "    def step(self,n):\n",
    "        return sum(int(i)**2 for i in str(n))"
   ]
  },
  {
   "cell_type": "markdown",
   "metadata": {},
   "source": [
    "### 同构字符串\n",
    "\n",
    "如果两个字符串是同构字符串的话，意味着组成它们的字母数量是一样的，并且每个字母出现的位置也要是一样的。比如egg和add，组成的字母都有两个，并且这两个字母的位置都是[0,12]\n",
    "所以可以将比较是否是同构字符串，转换为两个字典值的比较，字典的键是字母，而值是其字母出现的位置"
   ]
  },
  {
   "cell_type": "code",
   "execution_count": 6,
   "metadata": {},
   "outputs": [],
   "source": [
    "class Solution:\n",
    "    def isIsomorphic(self, s: str, t: str) -> bool:\n",
    "        dic_1 = self.get_dic(s)\n",
    "        dic_2 = self.get_dic(t)\n",
    "        #本来是直接返回dic_1.values() == dic_2.values() 但是不行，后来加了list\n",
    "        return list(dic_1.values())  == list(dic_2.values())\n",
    "\n",
    "\n",
    "    def get_dic(self,s):\n",
    "        dic = {}\n",
    "        for i,j in enumerate(s):\n",
    "            if j in dic:\n",
    "                dic[j].append(i)\n",
    "            else:\n",
    "                dic[j] = [i]\n",
    "        return dic\n",
    "    \n",
    "##转自https://leetcode.com/problems/isomorphic-strings/discuss/57941/Python-different-solutions-(dictionary-etc).\n",
    "##这个题解更简洁\n",
    "\n",
    "def isIsomorphic1(self, s, t):\n",
    "    d1, d2 = {}, {}\n",
    "    for i, val in enumerate(s):\n",
    "        d1[val] = d1.get(val, []) + [i]\n",
    "    for i, val in enumerate(t):\n",
    "        d2[val] = d2.get(val, []) + [i]\n",
    "    return sorted(d1.values()) == sorted(d2.values())\n",
    "\n",
    "##这个一行代码有点酷，不需要借助辅助空间，但是在系统内会消耗空间吗？\n",
    "class Solution:\n",
    "    def isIsomorphic(self, s: str, t: str) -> bool:\n",
    "        return len(set(zip(s,t))) == len(set(s)) == len(set(t))"
   ]
  },
  {
   "cell_type": "markdown",
   "metadata": {},
   "source": [
    "### 字母异位词\n",
    "\n",
    "字母异位词的要求是，出现的字母相同，并且每个字母出现的次数相同，那么可以以字母为键，以该字母出现的次数为值，或者由于字母只有26位，可以用长度为26的列表存储吗，每个字母对应列表的索引。另外，可以将两个词进行排序直接比较"
   ]
  },
  {
   "cell_type": "code",
   "execution_count": 36,
   "metadata": {},
   "outputs": [],
   "source": [
    "class Solution:\n",
    "    def isAnagram(self, s: str, t: str) -> bool:\n",
    "        dic1,dic2 = {},{}\n",
    "        for i,j in enumerate(s):\n",
    "            dic1[j] = dic1.get(j,0) + 1\n",
    "        for i,j in enumerate(t):\n",
    "            dic2[j] = dic2.get(j,0) + 1\n",
    "         \n",
    "        return dic1 == dic2\n",
    "    \n",
    "class Solution:\n",
    "    def isAnagram(self, s: str, t: str) -> bool:\n",
    "        l1,l2 = [0]*26,[0]*26\n",
    "        for i in s:\n",
    "            #ord（'a'）为97\n",
    "            l1[ord(i)-97] += 1\n",
    "        for i in t:\n",
    "            l2[ord(i)-97] += 1\n",
    "        return l1 == l2\n",
    "    \n",
    "class Solution:\n",
    "    def isAnagram(self, s: str, t: str) -> bool:\n",
    "        return sorted(s) == sorted(t)"
   ]
  },
  {
   "cell_type": "markdown",
   "metadata": {},
   "source": [
    "### 单词规律\n",
    "\n",
    "整体思维与同构字符串一样，只是要对str进行拆分"
   ]
  },
  {
   "cell_type": "code",
   "execution_count": 46,
   "metadata": {},
   "outputs": [],
   "source": [
    "class Solution:\n",
    "    def wordPattern(self, pattern: str, str: str) -> bool:\n",
    "        dic1,dic2 = {},{}\n",
    "        for i,j in enumerate(pattern):\n",
    "            dic1[j] = dic1.get(j,[]) + [i]\n",
    "        for i,j in enumerate(str.split()):\n",
    "            dic2[j] = dic2.get(j,[]) + [i]\n",
    "        return list(dic1.values()) == list(dic2.values())"
   ]
  },
  {
   "cell_type": "markdown",
   "metadata": {},
   "source": [
    "### 两个数组的交集\n",
    "\n",
    "数组取set后分别拿set1中的数却set2中找，取set的时间复杂度是O(n)，用一个数字在set里面找的时间复杂度是 O(1)（因为set在python中是以hash table的形式存储，所以查找，删除，插入操作都是O（1）），那么将set1的数都在set2里进行查找的时间复杂度是O（n）。总体时间复杂度是O（n）\n",
    "\n",
    "先对两个数组进行排序，再通过双指针遍历数组查找，python内置的排序的时间复杂度是，双指针遍历的时间复杂度是O（m*n）"
   ]
  },
  {
   "cell_type": "code",
   "execution_count": null,
   "metadata": {},
   "outputs": [],
   "source": [
    "class Solution:\n",
    "    def intersection(self, nums1: List[int], nums2: List[int]) -> List[int]:\n",
    "        nums1 = set(nums1)\n",
    "        nums2 = set(nums2)\n",
    "        res = []\n",
    "        for i in nums1:\n",
    "            if i in nums2:\n",
    "                res.append(i)\n",
    "        return res\n",
    "\n",
    "    \n",
    "##双指针法\n",
    "class Solution:\n",
    "    def intersection(self, nums1: List[int], nums2: List[int]) -> List[int]:\n",
    "        res = []\n",
    "        nums1.sort()\n",
    "        nums2.sort()\n",
    "        i,j = 0,0\n",
    "        while i<len(nums1) and j < len(nums2):\n",
    "            if nums1[i] < nums2[j]:\n",
    "                i += 1\n",
    "            elif nums1[i] > nums2[j]:\n",
    "                j += 1\n",
    "            else:\n",
    "                if nums1[i-1] != nums2[j-1]:\n",
    "                    res.append(nums1[i])\n",
    "                    i += 1\n",
    "                    j += 1\n",
    "        return res"
   ]
  },
  {
   "cell_type": "markdown",
   "metadata": {},
   "source": [
    "### 两个数组的交集2\n",
    "\n",
    "跟上面那题的不同之处在于，允许元素重复出现\n",
    "\n",
    "那么如果拿nums1的数字去nums2中遍历的话，每次遍历之后，要将该数字从nums2中删除，因为已经匹配过一次了"
   ]
  },
  {
   "cell_type": "code",
   "execution_count": null,
   "metadata": {},
   "outputs": [],
   "source": [
    "class Solution:\n",
    "    def intersect(self, nums1: List[int], nums2: List[int]) -> List[int]:\n",
    "        res = []\n",
    "        for i in nums1:\n",
    "            if i in nums2:\n",
    "                res.append(i)\n",
    "                nums2.remove(i)\n",
    "        return res\n",
    "\n",
    "##双指针法\n",
    "class Solution:\n",
    "    def intersection(self, nums1: List[int], nums2: List[int]) -> List[int]:\n",
    "        res = []\n",
    "        nums1.sort()\n",
    "        nums2.sort()\n",
    "        i,j = 0,0\n",
    "        while i<len(nums1) and j < len(nums2):\n",
    "            if nums1[i] < nums2[j]:\n",
    "                i += 1\n",
    "            elif nums1[i] > nums2[j]:\n",
    "                j += 1\n",
    "            else:\n",
    "                res.append(nums1[i])\n",
    "                i += 1\n",
    "                j += 1\n",
    "        return res"
   ]
  },
  {
   "cell_type": "code",
   "execution_count": null,
   "metadata": {},
   "outputs": [],
   "source": []
  }
 ],
 "metadata": {
  "kernelspec": {
   "display_name": "Python 3",
   "language": "python",
   "name": "python3"
  },
  "language_info": {
   "codemirror_mode": {
    "name": "ipython",
    "version": 3
   },
   "file_extension": ".py",
   "mimetype": "text/x-python",
   "name": "python",
   "nbconvert_exporter": "python",
   "pygments_lexer": "ipython3",
   "version": "3.6.10"
  }
 },
 "nbformat": 4,
 "nbformat_minor": 4
}
