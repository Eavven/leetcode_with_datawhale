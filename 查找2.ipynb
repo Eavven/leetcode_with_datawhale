{
 "cells": [
  {
   "cell_type": "markdown",
   "metadata": {},
   "source": [
    "## 两数之和\n",
    "\n",
    "一、最暴力的方法是找出所有两个数组合，如果相加等于target，则返回\n",
    "二、引入哈希表用时间换空间\n",
    "三、先对数组进行排序，用指针的方式从左到右遍历"
   ]
  },
  {
   "cell_type": "code",
   "execution_count": null,
   "metadata": {},
   "outputs": [],
   "source": [
    "class Solution(object):\n",
    "    def twoSum(self, nums, target):\n",
    "        dic = {}\n",
    "        for i in range(len(nums)):\n",
    "            dic[nums[i]] = i\n",
    "        for i in range(len(nums)):\n",
    "            if target - nums[i] in dic and dic[target - nums[i]] != i:\n",
    "                return [i,dic[target-nums[i]]] \n",
    "\n",
    "## 改进版，转自https://leetcode.com/problems/two-sum/discuss/17/Here-is-a-Python-solution-in-O(n)-time\n",
    "##构造字典的过程中，就可以返回结果\n",
    "class Solution(object):\n",
    "    def twoSum(self, nums, target):\n",
    "        dic = {}\n",
    "        for i in range(len(nums)):\n",
    "            if target - nums[i] in dic:\n",
    "                return [i,dic[target-nums[i]]]\n",
    "            dic[nums[i]] = i \n",
    "\n",
    "##以上是默认必然存在两数使得其和等于target，如果不一定存在，则需要加入判断条件\n",
    "\n",
    "len(nums) < 2:return False\n",
    "以及最后还要return False"
   ]
  },
  {
   "cell_type": "markdown",
   "metadata": {},
   "source": [
    "### 三数之和\n",
    "\n",
    "1、暴力法，三层嵌套循环\n",
    "2、从两数之和进行延伸，可以将target = target - nums[i]，那么又变成两数之和的问题，两数之和的时间复杂度为O（n），而因为要对数组里所有的数字进行查找，因此时间复杂度为n2"
   ]
  },
  {
   "cell_type": "code",
   "execution_count": 9,
   "metadata": {},
   "outputs": [],
   "source": [
    "##用二数之和的方法来写三数之和，最大的bug是会有重复元素的存在，即使先对nums进行排序，但在找剩下的两个数的时候，仍然会存在重复\n",
    "##转自https://leetcode.com/problems/3sum/discuss/7384/My-Python-solution-based-on-2-sum-200-ms-beat-93.37\n",
    "##他是通过 （） 防止重复现象\n",
    "class Solution(object):\n",
    "    def threeSum(self, nums):\n",
    "        \"\"\"\n",
    "        :type nums: List[int]\n",
    "        :rtype: List[List[int]]\n",
    "        \"\"\"\n",
    "        if len(nums) < 3:\n",
    "            return []\n",
    "        nums.sort()\n",
    "        res = set()\n",
    "        for i, v in enumerate(nums[:-2]):\n",
    "            if i >= 1 and v == nums[i-1]:\n",
    "                continue\n",
    "            d = {}\n",
    "            for x in nums[i+1:]:\n",
    "                if x not in d:\n",
    "                    d[-v-x] = 1\n",
    "                else:\n",
    "                    res.add((v, -v-x, x))\n",
    "        return map(list, res)\n",
    "\n",
    "\n",
    "\n",
    "\n",
    "## 指针方法\n",
    "\n",
    "def threeSum(self, nums):\n",
    "    res = []\n",
    "    nums.sort()\n",
    "    for i in xrange(len(nums)-2):\n",
    "        if i > 0 and nums[i] == nums[i-1]:\n",
    "            continue\n",
    "        l, r = i+1, len(nums)-1\n",
    "        while l < r:\n",
    "            s = nums[i] + nums[l] + nums[r]\n",
    "            if s < 0:\n",
    "                l +=1 \n",
    "            elif s > 0:\n",
    "                r -= 1\n",
    "            else:\n",
    "                res.append((nums[i], nums[l], nums[r]))\n",
    "                while l < r and nums[l] == nums[l+1]:\n",
    "                    l += 1\n",
    "                while l < r and nums[r] == nums[r-1]:\n",
    "                    r -= 1\n",
    "                l += 1; r -= 1\n",
    "    return res"
   ]
  },
  {
   "cell_type": "markdown",
   "metadata": {},
   "source": [
    "### 字母异位词分组\n",
    "\n",
    "最暴力方法，取一个字符出来之后遍历整个列表逐个比较,此时需要一个额外的列表来记录已经使用的字符串，但是如果列表里存在相同的字符则无法解决。看了题解后，进行改进，通过排序以及引入字典的方式进行记录。"
   ]
  },
  {
   "cell_type": "code",
   "execution_count": null,
   "metadata": {},
   "outputs": [],
   "source": [
    "class Solution:\n",
    "    def groupAnagrams(self, strs: List[str]) -> List[List[str]]:\n",
    "        d = {}\n",
    "        for w in sorted(strs):\n",
    "            key = tuple(sorted(w))\n",
    "            d[key] = d.get(key, []) + [w]\n",
    "        return list(d.values())"
   ]
  },
  {
   "cell_type": "code",
   "execution_count": null,
   "metadata": {},
   "outputs": [],
   "source": []
  }
 ],
 "metadata": {
  "kernelspec": {
   "display_name": "Python 3",
   "language": "python",
   "name": "python3"
  },
  "language_info": {
   "codemirror_mode": {
    "name": "ipython",
    "version": 3
   },
   "file_extension": ".py",
   "mimetype": "text/x-python",
   "name": "python",
   "nbconvert_exporter": "python",
   "pygments_lexer": "ipython3",
   "version": "3.6.10"
  }
 },
 "nbformat": 4,
 "nbformat_minor": 4
}
